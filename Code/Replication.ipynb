{
 "cells": [
  {
   "cell_type": "markdown",
   "metadata": {},
   "source": [
    "# Phe-EWAS replication"
   ]
  },
  {
   "cell_type": "code",
   "execution_count": 1,
   "metadata": {},
   "outputs": [
    {
     "name": "stderr",
     "output_type": "stream",
     "text": [
      "Loading required package: usethis\n",
      "\n"
     ]
    }
   ],
   "source": [
    "# LOAD LIBRARIES\n",
    "library(devtools)\n",
    "library(roxygen2)\n",
    "library(clarite)\n",
    "library(moments)\n",
    "library(ggplot2)\n",
    "library(gridExtra)"
   ]
  },
  {
   "cell_type": "code",
   "execution_count": 2,
   "metadata": {},
   "outputs": [],
   "source": [
    "# LOAD DATASETS\n",
    "load(\"../Data/nh_99-06.Rdata\")\n",
    "\n",
    "# Load variable descriptions for annotation when saving files\n",
    "descriptions_info <- unique(VarDescription[,colnames(VarDescription) %in% c(\"tab_desc\",\"module\",\"var\",\"var_desc\")])"
   ]
  },
  {
   "cell_type": "code",
   "execution_count": 3,
   "metadata": {},
   "outputs": [],
   "source": [
    "# Change ID column name\n",
    "colnames(MainTable)[1] <- \"ID\" "
   ]
  },
  {
   "cell_type": "code",
   "execution_count": 38,
   "metadata": {},
   "outputs": [
    {
     "name": "stdout",
     "output_type": "stream",
     "text": [
      "[1] \"Running...\"\n",
      "[1] \"Finished in 0.000145 secs\"\n"
     ]
    }
   ],
   "source": [
    "# Add survey year and combine LBDHDD and LBDHDL columns (they are the same variable)\n",
    "survey_year <- colfilter(MainTable, c(\"ID\"))\n",
    "MainTable[MainTable$SDDSRVYR==3 | MainTable$SDDSRVYR==4, \"LBDHDL\"] = MainTable[MainTable$SDDSRVYR==3 | MainTable$SDDSRVYR==4, \"LBDHDD\"] "
   ]
  },
  {
   "cell_type": "code",
   "execution_count": 42,
   "metadata": {},
   "outputs": [],
   "source": [
    "MainTable$SMQ077[MainTable$SMQ077==7] <- NA\n",
    "MainTable$DBD100[MainTable$DBD100==9] <- NA"
   ]
  },
  {
   "cell_type": "code",
   "execution_count": 49,
   "metadata": {},
   "outputs": [
    {
     "name": "stdout",
     "output_type": "stream",
     "text": [
      "[1] \"Running...\"\n",
      "[1] \"Finished in 9.8e-05 secs\"\n",
      "[1] \"Running...\"\n",
      "[1] \"Finished in 9.2e-05 secs\"\n"
     ]
    }
   ],
   "source": [
    "# GETTING SURVEY INFORMATION\n",
    "#Get survey info\n",
    "survey_design_discovery <- read.csv(paste(\"/home/tomas/Documents/RepPheEWAS/Data/weights_discovery.txt\", sep=\"/\"), sep=\"\\t\")\n",
    "colnames(survey_design_discovery)[1] <- \"ID\"\n",
    "survey_design_discovery <- colfilter(survey_design_discovery, c(\"SDDSRVYR\"), exclude=TRUE)\n",
    "\n",
    "#Get survey info\n",
    "survey_design_replication <- read.csv(paste(\"/home/tomas/Documents/RepPheEWAS/Data/weights_replication.txt\", sep=\"/\"), sep=\"\\t\")\n",
    "colnames(survey_design_replication)[1] <- \"ID\"\n",
    "survey_design_replication <- colfilter(survey_design_replication, c(\"SDDSRVYR\"), exclude=TRUE)\n",
    "\n",
    "# Divide replication weights by 2 to get 4 year weights\n",
    "survey_design_replication[,-(1:4)] <- survey_design_replication[,-(1:4)] / 2"
   ]
  },
  {
   "cell_type": "code",
   "execution_count": 47,
   "metadata": {},
   "outputs": [],
   "source": [
    "# Get weight mapping data\n",
    "var_weights <- read.csv(paste(\"/home/tomas/Documents/RepPheEWAS/Data/VarWeights.csv\", sep=\"/\"), fileEncoding=\"UTF-8-BOM\", stringsAsFactors = FALSE)\n",
    "var_weights <- var_weights[complete.cases(var_weights), ]\n",
    "weights_discovery <- setNames(as.list(var_weights$discovery), as.list(var_weights$variable_name))\n",
    "weights_replication <- setNames(as.list(var_weights$replication), as.list(var_weights$variable_name))\n"
   ]
  },
  {
   "cell_type": "markdown",
   "metadata": {},
   "source": [
    "# Remove unnecessary variables\n",
    "\n",
    "How many variables to we have at the start?"
   ]
  },
  {
   "cell_type": "code",
   "execution_count": 55,
   "metadata": {},
   "outputs": [
    {
     "data": {
      "text/html": [
       "1191"
      ],
      "text/latex": [
       "1191"
      ],
      "text/markdown": [
       "1191"
      ],
      "text/plain": [
       "[1] 1191"
      ]
     },
     "metadata": {},
     "output_type": "display_data"
    }
   ],
   "source": [
    "length(MainTable)"
   ]
  },
  {
   "cell_type": "code",
   "execution_count": 56,
   "metadata": {},
   "outputs": [
    {
     "name": "stdout",
     "output_type": "stream",
     "text": [
      "[1] \"Running...\"\n",
      "[1] \"Finished in 5e-04 secs\"\n",
      "[1] \"Running...\"\n",
      "[1] \"Finished in 0.000286 secs\"\n",
      "[1] \"Running...\"\n",
      "[1] \"Finished in 0.000231 secs\"\n"
     ]
    }
   ],
   "source": [
    "# Remove physical fitness vars and unknown pesticide variable\n",
    "no_pf_vars_URXP08 <- c(\"CVDVOMAX\",\"CVDESVO2\",\"CVDS1HR\",\"CVDS1SY\",\"CVDS1DI\",\"CVDS2HR\",\"CVDS2SY\", \"CVDS2DI\",\"CVDR1HR\",\"CVDR1SY\",\"CVDR1DI\",\"CVDR2HR\",\"CVDR2SY\",\"CVDR2DI\",\"physical_activity\", \"URXP08\") \n",
    "MainTable <- colfilter(d = MainTable, cols = c(no_pf_vars_URXP08), exclude = TRUE)\n",
    "\n",
    "# Remove other variables (inconclusive meaning)\n",
    "others <- c(\"house_type\",\"hepa\",\"hepb\", \"house_age\", \"current_past_smoking\",\"house_age\", \"DUQ130\", \"DMDMARTL\", \"income\")\n",
    "MainTable <- colfilter(MainTable, cols=others, exclude = TRUE)\n",
    "\n",
    "#Set covariates and phenotypes \n",
    "covariates <- c(\"female\", \"SES_LEVEL\", \"SDDSRVYR\", \"RIDAGEYR\", \"other_eth\", \"other_hispanic\", \"black\", \"mexican\", \"BMXBMI\")\n",
    "phenotype <- c(\"LBXSCRINV\", \"URXUCR\",\t\"LBXSCR\", \"LBXSATSI\",\t\"LBXSAL\",\t\"URXUMASI\",\t\"URXUMA\",\t\"LBXSAPSI\",\t\"LBXSASSI\",\t\"LBXSC3SI\",\t\"LBXSBU\",\t\"LBXBAP\",\t\"LBXCPSI\",\t\"LBXCRP\",\t\"LBXSCLSI\",\t\"LBXSCH\",\t\"LBDHDL\",\t\"LBDLDL\",\t\"LBXFER\",\t\"LBXSGTSI\",\t\"LBXSGB\",\t\"LBXGLU\",\t\"LBXGH\",\t\"LBXHCY\",\t\"LBXSIR\",\t\"LBXSLDSI\",\t\"LBXMMA\",\t\"LBXSOSSI\",\t\"LBXSPH\",\t\"LBXSKSI\",\t\"LBXEPP\",\t\"LBXSNASI\",\t\"LBXTIB\",\t\"LBXSTB\",\t\"LBXSCA\",\t\"LBXSTP\",\t\"LBDPCT\",\t\"LBXSTR\",\t\"LBXSUA\",\t\"LBDBANO\",\t\"LBXBAPCT\",\t\"LBDEONO\",\t\"LBXEOPCT\",\t\"LBXHCT\",\t\"LBXHGB\",\t\"LBDLYMNO\",\t\"LBXMCHSI\",\t\"LBXLYPCT\",\t\"LBXMCVSI\",\t\"LBXMPSI\",\t\"LBDMONO\",\t\"LBXMOPCT\",\t\"LBXPLTSI\",\t\"LBXRBCSI\",\t\"LBXRDW\",\t\"LBDNENO\",\t\"LBXNEPCT\", \"LBXIRN\")\n",
    "phenotype_rep <- c(\"LBXSCRINV\", \"URXUCR\",\t\"LBXSCR\", \"LBXSATSI\",\t\"LBXSAL\",\t\"URXUMASI\",\t\"URXUMA\",\t\"LBXSAPSI\",\t\"LBXSASSI\",\t\"LBXSC3SI\",\t\"LBXSBU\",\t\"LBXBAP\",\t\"LBXCPSI\",\t\"LBXCRP\",\t\"LBXSCLSI\",\t\"LBXSCH\",\t\"LBDHDL\",\t\"LBDLDL\",\t\"LBXFER\",\t\"LBXSGTSI\",\t\"LBXSGB\",\t\"LBXGLU\",\t\"LBXGH\",\t\"LBXHCY\",\t\"LBXSIR\",\t\"LBXSLDSI\",\t\"LBXMMA\",\t\"LBXSOSSI\",\t\"LBXSPH\", \"LBXSKSI\",\t\"LBXEPP\",\t\"LBXSNASI\",\t\"LBXTIB\",\t\"LBXSTB\",\t\"LBXSCA\",\t\"LBXSTP\",\t\"LBDPCT\",\t\"LBXSTR\",\t\"LBXSUA\",\t\"LBDBANO\",\t\"LBXBAPCT\",\t\"LBDEONO\",\t\"LBXEOPCT\",\t\"LBXHCT\",\t\"LBXHGB\",\t\"LBDLYMNO\",\t\"LBXMCHSI\",\t\"LBXLYPCT\",\t\"LBXMCVSI\",\t\"LBXMPSI\",\t\"LBDMONO\",\t\"LBXMOPCT\",\t\"LBXPLTSI\",\t\"LBXRBCSI\",\t\"LBXRDW\",\t\"LBDNENO\",\t\"LBXNEPCT\", \"LBXIRN\")\n",
    "\n",
    "#Remove variables that do not have 4 year weights \n",
    "remove_variables_lbxtc <- c(\"LBXTC\")\n",
    "MainTable <- colfilter(MainTable, remove_variables_lbxtc, exclude=TRUE)"
   ]
  },
  {
   "cell_type": "markdown",
   "metadata": {},
   "source": [
    "How many do we end up with?"
   ]
  },
  {
   "cell_type": "code",
   "execution_count": 57,
   "metadata": {},
   "outputs": [
    {
     "data": {
      "text/html": [
       "1166"
      ],
      "text/latex": [
       "1166"
      ],
      "text/markdown": [
       "1166"
      ],
      "text/plain": [
       "[1] 1166"
      ]
     },
     "metadata": {},
     "output_type": "display_data"
    }
   ],
   "source": [
    "length(MainTable)"
   ]
  },
  {
   "cell_type": "markdown",
   "metadata": {},
   "source": [
    "# Spliting variables by type"
   ]
  },
  {
   "cell_type": "code",
   "execution_count": 58,
   "metadata": {},
   "outputs": [
    {
     "name": "stdout",
     "output_type": "stream",
     "text": [
      "[1] \"Running...\"\n",
      "[1] \"Finished in 0.739235 secs\"\n",
      "[1] \"Running...\"\n",
      "[1] \"Finished in 1.319574 secs\"\n",
      "[1] \"Running...\"\n",
      "[1] \"Warning: area may contain non-numeric values.\"\n",
      "[1] \"Finished in 0.637832 secs\"\n",
      "[1] \"Running...\"\n",
      "[1] \"Finished in 1.277391 secs\"\n"
     ]
    }
   ],
   "source": [
    "bin_phe <- get_binary(MainTable)\n",
    "cat_phe <- get_categorical(MainTable)\n",
    "cont_phe <- get_continuous(MainTable)\n",
    "check_phe <- get_check(MainTable)"
   ]
  },
  {
   "cell_type": "markdown",
   "metadata": {},
   "source": [
    "How many by type?"
   ]
  },
  {
   "cell_type": "code",
   "execution_count": 66,
   "metadata": {},
   "outputs": [
    {
     "data": {
      "text/html": [
       "'There are 416 binary, 57 categorical, 607 continuos, and 39 variables to check'"
      ],
      "text/latex": [
       "'There are 416 binary, 57 categorical, 607 continuos, and 39 variables to check'"
      ],
      "text/markdown": [
       "'There are 416 binary, 57 categorical, 607 continuos, and 39 variables to check'"
      ],
      "text/plain": [
       "[1] \"There are 416 binary, 57 categorical, 607 continuos, and 39 variables to check\""
      ]
     },
     "metadata": {},
     "output_type": "display_data"
    }
   ],
   "source": [
    "sprintf(\"There are %i binary, %i categorical, %i continuos, and %i variables to check\", length(bin_phe), length(cat_phe), length(cont_phe), length(check_phe))"
   ]
  },
  {
   "cell_type": "code",
   "execution_count": 89,
   "metadata": {},
   "outputs": [
    {
     "name": "stdout",
     "output_type": "stream",
     "text": [
      "[1] \"Running...\"\n",
      "[1] \"Running...\"\n",
      "[1] \"Finished in 0.000777 secs\"\n",
      "[1] \"Finished in 0.251947 secs\"\n",
      "[1] \"Running...\"\n",
      "[1] \"Finished in 0.000151 secs\"\n"
     ]
    }
   ],
   "source": [
    "# Some columns need to be moved from categorical to continuous\n",
    "cat_to_cont_phe <- c(\"L_ASPARTIC_ACID_mg\", \"L_GLUTAMINE_gm\", \"DBQ095\", \"DRDDRSTZ\", \"BETA_CAROTENE_mcg\", \"CALCIUM_PPM\", \"GLYCINE_gm\", \"LBXPFDO\", \"LBDBANO\", \"LBXTO3\", \"DRD350AQ\",\t\"DRD350BQ\",\t\"DRD350CQ\",\t\"DRD350DQ\",\t\"DRD350EQ\",\t\"DRD350FQ\",\t\"DRD350GQ\",\t\"DRD350IQ\",\t\"DRD350JQ\",\t\"DRD370AQ\",\t\"DRD370CQ\",\t\"DRD370DQ\",\t\"DRD370EQ\",\t\"DRD370FQ\",\t\"DRD370GQ\",\t\"DRD370HQ\",\t\"DRD370IQ\",\t\"DRD370KQ\",\t\"DRD370NQ\",\t\"DRD370RQ\",\t\"DRD370SQ\")\n",
    "cont_phe <- merge_data(cont_phe, colfilter(cat_phe, cols = cat_to_cont_phe, exclude = FALSE))\n",
    "cat_phe <- colfilter(cat_phe, cols = cat_to_cont_phe, exclude = TRUE)"
   ]
  },
  {
   "cell_type": "code",
   "execution_count": 90,
   "metadata": {},
   "outputs": [
    {
     "data": {
      "text/html": [
       "'There are 416 binary, 52 categorical, 612 continuos, and 39 variables to check'"
      ],
      "text/latex": [
       "'There are 416 binary, 52 categorical, 612 continuos, and 39 variables to check'"
      ],
      "text/markdown": [
       "'There are 416 binary, 52 categorical, 612 continuos, and 39 variables to check'"
      ],
      "text/plain": [
       "[1] \"There are 416 binary, 52 categorical, 612 continuos, and 39 variables to check\""
      ]
     },
     "metadata": {},
     "output_type": "display_data"
    }
   ],
   "source": [
    "sprintf(\"There are %i binary, %i categorical, %i continuos, and %i variables to check\", length(bin_phe), length(cat_phe), length(cont_phe), length(check_phe))"
   ]
  },
  {
   "cell_type": "code",
   "execution_count": 92,
   "metadata": {},
   "outputs": [
    {
     "name": "stdout",
     "output_type": "stream",
     "text": [
      "[1] \"Checked:  ID, LBXPFDO, LBDBANO, LBXTO3, DRD350AQ, DRD350BQ, DRD350CQ, DRD350DQ, DRD350EQ, DRD350FQ, DRD350GQ, DRD350IQ, DRD350JQ, DRD370AQ, DRD370CQ, DRD370DQ, DRD370EQ, DRD370FQ, DRD370GQ, DRD370HQ, DRD370IQ, DRD370KQ, DRD370NQ, DRD370RQ, DRD370SQ, ALCOHOL_PERCENT, L_ASPARTIC_ACID_mg, L_GLUTAMINE_gm, LBXV2T, LBXV4T, LBXVDM, LBXPFBS, LBDSY3, LBXTO5, URXMMI, DUQ280, DUQ360, OMEGA_9_FATTY_ACIDS_mg, URXEMM\"\n",
      "[1] \"Running...\"\n",
      "[1] \"Finished in 0.298981 secs\"\n"
     ]
    }
   ],
   "source": [
    "# All \"check\" columns are continuous\n",
    "print(paste(\"Checked: \", paste(names(check_phe), collapse=\", \"), sep=\" \"))\n",
    "cont_phe <- merge_data(cont_phe, check_phe, union = TRUE)"
   ]
  },
  {
   "cell_type": "code",
   "execution_count": 94,
   "metadata": {},
   "outputs": [
    {
     "data": {
      "text/html": [
       "'There are 416 binary, 52 categorical, and 650 continuos variables'"
      ],
      "text/latex": [
       "'There are 416 binary, 52 categorical, and 650 continuos variables'"
      ],
      "text/markdown": [
       "'There are 416 binary, 52 categorical, and 650 continuos variables'"
      ],
      "text/plain": [
       "[1] \"There are 416 binary, 52 categorical, and 650 continuos variables\""
      ]
     },
     "metadata": {},
     "output_type": "display_data"
    }
   ],
   "source": [
    "sprintf(\"There are %i binary, %i categorical, and %i continuos variables\", length(bin_phe), length(cat_phe), length(cont_phe), length(check_phe))"
   ]
  },
  {
   "cell_type": "code",
   "execution_count": 95,
   "metadata": {},
   "outputs": [],
   "source": [
    "# Get covariate types\n",
    "covariates_cat_phe = intersect(names(cat_phe), covariates)\n",
    "covariates_bin_phe = intersect(names(bin_phe), covariates)\n",
    "covariates_catbin_phe <- union(covariates_cat_phe, covariates_bin_phe)\n",
    "covariates_cont_phe = intersect(names(cont_phe), covariates)"
   ]
  },
  {
   "cell_type": "code",
   "execution_count": 96,
   "metadata": {},
   "outputs": [
    {
     "data": {
      "text/html": [
       "<style>\n",
       ".list-inline {list-style: none; margin:0; padding: 0}\n",
       ".list-inline>li {display: inline-block}\n",
       ".list-inline>li:not(:last-child)::after {content: \"\\00b7\"; padding: 0 .5ex}\n",
       "</style>\n",
       "<ol class=list-inline><li>'SES_LEVEL'</li><li>'SDDSRVYR'</li><li>'female'</li><li>'black'</li><li>'mexican'</li><li>'other_hispanic'</li><li>'other_eth'</li></ol>\n"
      ],
      "text/latex": [
       "\\begin{enumerate*}\n",
       "\\item 'SES\\_LEVEL'\n",
       "\\item 'SDDSRVYR'\n",
       "\\item 'female'\n",
       "\\item 'black'\n",
       "\\item 'mexican'\n",
       "\\item 'other\\_hispanic'\n",
       "\\item 'other\\_eth'\n",
       "\\end{enumerate*}\n"
      ],
      "text/markdown": [
       "1. 'SES_LEVEL'\n",
       "2. 'SDDSRVYR'\n",
       "3. 'female'\n",
       "4. 'black'\n",
       "5. 'mexican'\n",
       "6. 'other_hispanic'\n",
       "7. 'other_eth'\n",
       "\n",
       "\n"
      ],
      "text/plain": [
       "[1] \"SES_LEVEL\"      \"SDDSRVYR\"       \"female\"         \"black\"         \n",
       "[5] \"mexican\"        \"other_hispanic\" \"other_eth\"     "
      ]
     },
     "metadata": {},
     "output_type": "display_data"
    }
   ],
   "source": [
    "covariates_catbin_phe"
   ]
  },
  {
   "cell_type": "code",
   "execution_count": 97,
   "metadata": {},
   "outputs": [
    {
     "data": {
      "text/html": [
       "<style>\n",
       ".list-inline {list-style: none; margin:0; padding: 0}\n",
       ".list-inline>li {display: inline-block}\n",
       ".list-inline>li:not(:last-child)::after {content: \"\\00b7\"; padding: 0 .5ex}\n",
       "</style>\n",
       "<ol class=list-inline><li>'RIDAGEYR'</li><li>'BMXBMI'</li></ol>\n"
      ],
      "text/latex": [
       "\\begin{enumerate*}\n",
       "\\item 'RIDAGEYR'\n",
       "\\item 'BMXBMI'\n",
       "\\end{enumerate*}\n"
      ],
      "text/markdown": [
       "1. 'RIDAGEYR'\n",
       "2. 'BMXBMI'\n",
       "\n",
       "\n"
      ],
      "text/plain": [
       "[1] \"RIDAGEYR\" \"BMXBMI\"  "
      ]
     },
     "metadata": {},
     "output_type": "display_data"
    }
   ],
   "source": [
    "covariates_cont_phe"
   ]
  },
  {
   "cell_type": "code",
   "execution_count": 98,
   "metadata": {},
   "outputs": [
    {
     "name": "stdout",
     "output_type": "stream",
     "text": [
      "[1] \"Running...\"\n",
      "[1] \"Finished in 0.000645 secs\"\n"
     ]
    }
   ],
   "source": [
    "statins <- c(\"ATORVASTATIN_CALCIUM\", \"SIMVASTATIN\", \"PRAVASTATIN_SODIUM\", \"FLUVASTATIN_SODIUM\")\n",
    "phestatin <- colfilter(bin_phe, cols = statins)\n",
    "phestatin$total <- rowSums(phestatin[2:5], na.rm = TRUE)"
   ]
  },
  {
   "cell_type": "code",
   "execution_count": 114,
   "metadata": {},
   "outputs": [
    {
     "data": {
      "text/html": [
       "'There are 1059 participants out of 41474 on statins'"
      ],
      "text/latex": [
       "'There are 1059 participants out of 41474 on statins'"
      ],
      "text/markdown": [
       "'There are 1059 participants out of 41474 on statins'"
      ],
      "text/plain": [
       "[1] \"There are 1059 participants out of 41474 on statins\""
      ]
     },
     "metadata": {},
     "output_type": "display_data"
    }
   ],
   "source": [
    "sprintf(\"There are %i participants out of %i on statins\", sum(phestatin$total!=0), dim(MainTable)[1])"
   ]
  },
  {
   "cell_type": "code",
   "execution_count": null,
   "metadata": {},
   "outputs": [],
   "source": []
  }
 ],
 "metadata": {
  "kernelspec": {
   "display_name": "R",
   "language": "R",
   "name": "ir"
  },
  "language_info": {
   "codemirror_mode": "r",
   "file_extension": ".r",
   "mimetype": "text/x-r-source",
   "name": "R",
   "pygments_lexer": "r",
   "version": "4.0.2"
  }
 },
 "nbformat": 4,
 "nbformat_minor": 4
}
